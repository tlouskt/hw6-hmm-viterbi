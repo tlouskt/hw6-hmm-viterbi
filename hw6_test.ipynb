{
 "cells": [
  {
   "cell_type": "code",
   "execution_count": 753,
   "id": "1ae88ca9",
   "metadata": {
    "scrolled": true
   },
   "outputs": [
    {
     "name": "stdout",
     "output_type": "stream",
     "text": [
      "The autoreload extension is already loaded. To reload it, use:\n",
      "  %reload_ext autoreload\n"
     ]
    }
   ],
   "source": [
    "%load_ext autoreload\n",
    "%autoreload 2"
   ]
  },
  {
   "cell_type": "code",
   "execution_count": 649,
   "id": "c8e9b6b2",
   "metadata": {},
   "outputs": [],
   "source": [
    "from src.models import hmm, decoders"
   ]
  },
  {
   "cell_type": "code",
   "execution_count": 650,
   "id": "2076a52c",
   "metadata": {},
   "outputs": [],
   "source": [
    "import numpy as np"
   ]
  },
  {
   "cell_type": "code",
   "execution_count": 651,
   "id": "4231809f",
   "metadata": {},
   "outputs": [],
   "source": [
    "observation_states = ['committed','ambivalent']"
   ]
  },
  {
   "cell_type": "code",
   "execution_count": 652,
   "id": "27b542b8",
   "metadata": {},
   "outputs": [],
   "source": [
    "hidden_states = hidden_states = ['R01','R21']"
   ]
  },
  {
   "cell_type": "code",
   "execution_count": 653,
   "id": "58f19f78",
   "metadata": {},
   "outputs": [],
   "source": [
    "use_case_one_data = np.load('./data/UserCase-Lecture.npz')"
   ]
  },
  {
   "cell_type": "code",
   "execution_count": 654,
   "id": "ca110515",
   "metadata": {},
   "outputs": [],
   "source": [
    "use_case_one_hmm = hmm.HiddenMarkovModel(observation_states,\n",
    "                                         hidden_states,\n",
    "                      use_case_one_data['prior_probabilities'], \n",
    "                      use_case_one_data['transition_probabilities'],\n",
    "                      use_case_one_data['emission_probabilities']) "
   ]
  },
  {
   "cell_type": "code",
   "execution_count": 655,
   "id": "f5c5220c",
   "metadata": {},
   "outputs": [],
   "source": [
    "use_case_one_viterbi = decoders.ViterbiAlgorithm(use_case_one_hmm)"
   ]
  },
  {
   "cell_type": "code",
   "execution_count": 656,
   "id": "b24ad36f",
   "metadata": {},
   "outputs": [
    {
     "name": "stdout",
     "output_type": "stream",
     "text": [
      "['committed', 'ambivalent']\n",
      "{'committed': 0, 'ambivalent': 1}\n",
      "['R01', 'R21']\n",
      "{0: 'R01', 1: 'R21'}\n"
     ]
    }
   ],
   "source": [
    "observation_states = use_case_one_hmm.observation_states\n",
    "observation_states_dict = use_case_one_hmm.observation_states_dict\n",
    "hidden_states = use_case_one_hmm.hidden_states\n",
    "hidden_states_dict = use_case_one_hmm.hidden_states_dict\n",
    "print(observation_states)\n",
    "print(observation_states_dict)\n",
    "print(hidden_states)\n",
    "print(hidden_states_dict)"
   ]
  },
  {
   "cell_type": "code",
   "execution_count": 743,
   "id": "06dae262",
   "metadata": {},
   "outputs": [
    {
     "name": "stdout",
     "output_type": "stream",
     "text": [
      "[0.67 0.33]\n",
      "(2,)\n",
      "(2, 2)\n",
      "(2, 2)\n"
     ]
    }
   ],
   "source": [
    "prior_prob = use_case_one_hmm.prior_probabilities\n",
    "transition_prob = use_case_one_hmm.transition_probabilities\n",
    "emission_prob = use_case_one_hmm.emission_probabilities\n",
    "print(prior_prob)\n",
    "print(prior_prob.shape)\n",
    "print(transition_prob.shape)\n",
    "print(emission_prob.shape)"
   ]
  },
  {
   "cell_type": "code",
   "execution_count": 742,
   "id": "3a0118e8",
   "metadata": {},
   "outputs": [
    {
     "name": "stdout",
     "output_type": "stream",
     "text": [
      "['committed' 'committed' 'ambivalent' 'ambivalent' 'ambivalent'\n",
      " 'committed']\n"
     ]
    }
   ],
   "source": [
    "decode_observation_states = use_case_one_data['observation_states']\n",
    "print(decode_observation_states)"
   ]
  },
  {
   "cell_type": "code",
   "execution_count": 745,
   "id": "e08e10fb",
   "metadata": {},
   "outputs": [
    {
     "name": "stdout",
     "output_type": "stream",
     "text": [
      "2\n",
      "2\n",
      "6\n",
      "[[0.536      0.132     ]\n",
      " [0.34304    0.04288   ]\n",
      " [0.0548864  0.0411648 ]\n",
      " [0.00878182 0.01481933]\n",
      " [0.00140509 0.00533496]\n",
      " [0.00170719 0.00128039]]\n",
      "[[0 0]\n",
      " [0 0]\n",
      " [0 0]\n",
      " [0 1]\n",
      " [0 1]\n",
      " [1 1]]\n"
     ]
    }
   ],
   "source": [
    "print(len(hidden_states))\n",
    "print(len(observation_states))\n",
    "print(len(decode_observation_states))\n",
    "print(path)\n",
    "print(best_path)"
   ]
  },
  {
   "cell_type": "code",
   "execution_count": 551,
   "id": "d7d90c51",
   "metadata": {
    "scrolled": false
   },
   "outputs": [
    {
     "name": "stdout",
     "output_type": "stream",
     "text": [
      "committed\n",
      "0\n"
     ]
    }
   ],
   "source": [
    "print(decode_observation_states[0])\n",
    "start_obs = observation_states_dict[decode_observation_states[0]]\n",
    "print(start_obs)"
   ]
  },
  {
   "cell_type": "code",
   "execution_count": 553,
   "id": "ed84a5bb",
   "metadata": {},
   "outputs": [
    {
     "data": {
      "text/plain": [
       "array([0.536, 0.132])"
      ]
     },
     "execution_count": 553,
     "metadata": {},
     "output_type": "execute_result"
    }
   ],
   "source": [
    "delta = np.multiply(prior_prob, emission_prob[:, start_obs])\n",
    "delta"
   ]
  },
  {
   "cell_type": "code",
   "execution_count": 554,
   "id": "70a7b91e",
   "metadata": {},
   "outputs": [
    {
     "name": "stdout",
     "output_type": "stream",
     "text": [
      "[[0.4288 0.0528]\n",
      " [0.1072 0.0792]]\n"
     ]
    }
   ],
   "source": [
    "#p_d_t = np.multiply(delta, transition_prob)\n",
    "#print(p_d_t)\n",
    "p_d_t_T = np.multiply(delta, transition_prob.T)\n",
    "print(p_d_t_T)"
   ]
  },
  {
   "cell_type": "code",
   "execution_count": 468,
   "id": "f62cbef1",
   "metadata": {},
   "outputs": [
    {
     "name": "stdout",
     "output_type": "stream",
     "text": [
      "[[0.51353293 0.06419162]\n",
      " [0.06323353 0.04742515]]\n"
     ]
    }
   ],
   "source": [
    "p_d_t_T_e = np.multiply(p_d_t_T.T, emission_prob[:, start_obs])\n",
    "print(p_d_t_T_e)"
   ]
  },
  {
   "cell_type": "code",
   "execution_count": 392,
   "id": "8e53a198",
   "metadata": {},
   "outputs": [
    {
     "data": {
      "text/plain": [
       "5"
      ]
     },
     "execution_count": 392,
     "metadata": {},
     "output_type": "execute_result"
    }
   ],
   "source": [
    "x"
   ]
  },
  {
   "cell_type": "code",
   "execution_count": 469,
   "id": "f2af57e4",
   "metadata": {
    "scrolled": true
   },
   "outputs": [
    {
     "name": "stdout",
     "output_type": "stream",
     "text": [
      "[[0.64191617 0.07904192]\n",
      " [0.16047904 0.11856287]]\n",
      "[[0.64191617 0.16047904]\n",
      " [0.07904192 0.11856287]]\n",
      "[0.8 0.4]\n",
      "[[0.51353293 0.06419162]\n",
      " [0.06323353 0.04742515]]\n",
      "[[0.51353293 0.06323353]\n",
      " [0.06419162 0.04742515]]\n",
      "[0 0]\n",
      "[0.51353293 0.06419162]\n",
      "[0 0]\n",
      "[0.51353293 0.06419162]\n"
     ]
    }
   ],
   "source": [
    "prod_delta_trans = np.multiply(delta, transition_prob.T)\n",
    "print(prod_delta_trans)\n",
    "print(prod_delta_trans.T)\n",
    "print(emission_prob[:,0])\n",
    "prod_delta_trans_emission = np.multiply(prod_delta_trans.T, emission_prob[:,0])\n",
    "print(prod_delta_trans_emission)\n",
    "print(prod_delta_trans_emission.T)\n",
    "\n",
    "max_hidden_prob = np.max(prod_delta_trans_emission, axis=0)\n",
    "max_hidden_prob_idx = np.argmax(prod_delta_trans_emission, axis=0)\n",
    "print(np.argmax(prod_delta_trans_emission, axis=0))\n",
    "print(np.max(prod_delta_trans_emission, axis=0))\n",
    "\n",
    "print(np.argmax(prod_delta_trans_emission.T, axis=1))\n",
    "print(np.max(prod_delta_trans_emission.T, axis=1))"
   ]
  },
  {
   "cell_type": "code",
   "execution_count": 549,
   "id": "f8f25c8c",
   "metadata": {},
   "outputs": [
    {
     "name": "stdout",
     "output_type": "stream",
     "text": [
      "[[0. 1.]\n",
      " [0. 0.]\n",
      " [0. 0.]\n",
      " [0. 0.]\n",
      " [0. 0.]\n",
      " [0. 0.]]\n",
      "[0. 0. 0. 0. 0. 0.]\n"
     ]
    }
   ],
   "source": [
    "path = np.zeros((len(decode_observation_states), \n",
    "                len(hidden_states)))\n",
    "path[0,:] = [hidden_state_index for hidden_state_index in range(len(hidden_states))]\n",
    "best_path = np.zeros(len(decode_observation_states))\n",
    "best_path[0] = path[0][np.argmax(delta)]\n",
    "print(path)\n",
    "print(best_path)"
   ]
  },
  {
   "cell_type": "code",
   "execution_count": 527,
   "id": "4fbb6290",
   "metadata": {},
   "outputs": [],
   "source": [
    "for trellis_node in range(1, len(decode_observation_states)):\n",
    "    curr_obs = observation_states_dict[decode_observation_states[trellis_node]]\n",
    "    \n",
    "    prod_delta_trans = np.multiply(delta, transition_prob.T)\n",
    "    prod_delta_trans_emission = np.multiply(prod_delta_trans.T, emission_prob[:, curr_obs])\n",
    "    \n",
    "    max_prob = np.max(prod_delta_trans_emission, axis=0)\n",
    "    max_prob_idx = np.argmax(prod_delta_trans_emission, axis=0)\n",
    "    #rows are hidden state, columns are observed state\n",
    "    max_prob_scaled = max_prob / np.sum(max_prob)\n",
    "    \n",
    "    path[trellis_node,:] = max_prob_idx\n",
    "    best_path[trellis_node-1] =np.argmax(max_prob_scaled)\n",
    "    \n",
    "    delta = np.multiply(prior_prob, emission_prob[:, curr_obs])\n",
    "    "
   ]
  },
  {
   "cell_type": "code",
   "execution_count": 528,
   "id": "693e9e3f",
   "metadata": {
    "scrolled": true
   },
   "outputs": [
    {
     "data": {
      "text/plain": [
       "array([0, 0, 1, 1, 0, 0], dtype=int32)"
      ]
     },
     "execution_count": 528,
     "metadata": {},
     "output_type": "execute_result"
    }
   ],
   "source": [
    "best_path"
   ]
  },
  {
   "cell_type": "code",
   "execution_count": 529,
   "id": "86f4c680",
   "metadata": {},
   "outputs": [
    {
     "data": {
      "text/plain": [
       "array([[0., 1.],\n",
       "       [0., 0.],\n",
       "       [0., 0.],\n",
       "       [0., 1.],\n",
       "       [0., 1.],\n",
       "       [0., 1.]])"
      ]
     },
     "execution_count": 529,
     "metadata": {},
     "output_type": "execute_result"
    }
   ],
   "source": [
    "path"
   ]
  },
  {
   "cell_type": "code",
   "execution_count": 741,
   "id": "703f0fad",
   "metadata": {},
   "outputs": [
    {
     "name": "stdout",
     "output_type": "stream",
     "text": [
      "[0.4288 0.0528] 0\n",
      "0\n",
      "0.42880000000000007\n",
      "[[0.536   0.132  ]\n",
      " [0.34304 0.     ]\n",
      " [0.      0.     ]\n",
      " [0.      0.     ]\n",
      " [0.      0.     ]\n",
      " [0.      0.     ]]\n",
      "[0.1072 0.0792] 1\n",
      "0\n",
      "0.10720000000000002\n",
      "[[0.536   0.132  ]\n",
      " [0.34304 0.04288]\n",
      " [0.      0.     ]\n",
      " [0.      0.     ]\n",
      " [0.      0.     ]\n",
      " [0.      0.     ]]\n",
      "[0.274432 0.017152] 0\n",
      "0\n",
      "0.27443200000000006\n",
      "[[0.536     0.132    ]\n",
      " [0.34304   0.04288  ]\n",
      " [0.0548864 0.       ]\n",
      " [0.        0.       ]\n",
      " [0.        0.       ]\n",
      " [0.        0.       ]]\n",
      "[0.068608 0.025728] 1\n",
      "0\n",
      "0.06860800000000002\n",
      "[[0.536     0.132    ]\n",
      " [0.34304   0.04288  ]\n",
      " [0.0548864 0.0411648]\n",
      " [0.        0.       ]\n",
      " [0.        0.       ]\n",
      " [0.        0.       ]]\n",
      "[0.04390912 0.01646592] 0\n",
      "0\n",
      "0.04390912000000002\n",
      "[[0.536      0.132     ]\n",
      " [0.34304    0.04288   ]\n",
      " [0.0548864  0.0411648 ]\n",
      " [0.00878182 0.        ]\n",
      " [0.         0.        ]\n",
      " [0.         0.        ]]\n",
      "[0.01097728 0.02469888] 1\n",
      "1\n",
      "0.024698880000000003\n",
      "[[0.536      0.132     ]\n",
      " [0.34304    0.04288   ]\n",
      " [0.0548864  0.0411648 ]\n",
      " [0.00878182 0.01481933]\n",
      " [0.         0.        ]\n",
      " [0.         0.        ]]\n",
      "[0.00702546 0.00592773] 0\n",
      "0\n",
      "0.007025459200000004\n",
      "[[0.536      0.132     ]\n",
      " [0.34304    0.04288   ]\n",
      " [0.0548864  0.0411648 ]\n",
      " [0.00878182 0.01481933]\n",
      " [0.00140509 0.        ]\n",
      " [0.         0.        ]]\n",
      "[0.00175636 0.0088916 ] 1\n",
      "1\n",
      "0.0088915968\n",
      "[[0.536      0.132     ]\n",
      " [0.34304    0.04288   ]\n",
      " [0.0548864  0.0411648 ]\n",
      " [0.00878182 0.01481933]\n",
      " [0.00140509 0.00533496]\n",
      " [0.         0.        ]]\n",
      "[0.00112407 0.00213398] 0\n",
      "1\n",
      "0.002133983232\n",
      "[[0.536      0.132     ]\n",
      " [0.34304    0.04288   ]\n",
      " [0.0548864  0.0411648 ]\n",
      " [0.00878182 0.01481933]\n",
      " [0.00140509 0.00533496]\n",
      " [0.00170719 0.        ]]\n",
      "[0.00028102 0.00320097] 1\n",
      "1\n",
      "0.0032009748479999997\n",
      "[[0.536      0.132     ]\n",
      " [0.34304    0.04288   ]\n",
      " [0.0548864  0.0411648 ]\n",
      " [0.00878182 0.01481933]\n",
      " [0.00140509 0.00533496]\n",
      " [0.00170719 0.00128039]]\n"
     ]
    }
   ],
   "source": [
    "T = len(decode_observation_states)\n",
    "N = len(hidden_states)\n",
    "\n",
    "path = np.zeros((T, N))\n",
    "\n",
    "\n",
    "best_path = np.zeros((T, N), dtype=int)\n",
    "\n",
    "start_obs = observation_states_dict[decode_observation_states[0]]\n",
    "\n",
    "# Initialize the first column of the Viterbi matrix\n",
    "delta = np.multiply(prior_prob, emission_prob[:, start_obs])\n",
    "path[0, :] = delta\n",
    "\n",
    "# Loop over the remaining columns of the Viterbi matrix\n",
    "for trellis_node in range(1, len(decode_observation_states)):\n",
    "    curr_obs = observation_states_dict[decode_observation_states[trellis_node]]\n",
    "    prev_delta = path[trellis_node - 1, :]\n",
    "    for hidden_state in range(len(hidden_states)):\n",
    "        # probabilities of transitioning to this hidden state given previous delta and current observation state\n",
    "        prod_delta_trans = np.multiply(prev_delta, transition_prob[:, hidden_state]) \n",
    "        print(prod_delta_trans, hidden_state)\n",
    "        \n",
    "        max_prob_idx = np.argmax(prod_delta_trans) #index of most likely previous state with max prob\n",
    "        print(max_prob_idx)\n",
    "        max_prob_val = prod_delta_trans[max_prob_idx] #get max prob value to multiply with emission probabilities\n",
    "        print(max_prob_val)\n",
    "\n",
    "        # Update the path and best path\n",
    "        prod_delta_trans_emission = np.multiply(max_prob_val, emission_prob[hidden_state, curr_obs])\n",
    "        path[trellis_node,hidden_state] = np.max(prod_delta_trans_emission) #add new delta to path for given hidden state\n",
    "        print(path)\n",
    "        \n",
    "        best_path[trellis_node,hidden_state] = max_prob_idx #store index of highest prob\n",
    "        \n",
    "# get final state by returning index of max value in last row of path matrix\n",
    "final_state = np.argmax(path[-1, :])\n",
    "\n",
    "# Follow the backpointers to reconstruct the most likely sequence of states\n",
    "best_hidden_state_path = [final_state]\n",
    "for state in range(len(decode_observation_states) - 1, 0, -1):\n",
    "    prev_state = best_path[state, best_hidden_state_path[-1]]\n",
    "    best_hidden_state_path.append(prev_state)\n",
    "best_hidden_state_path.reverse()\n"
   ]
  },
  {
   "cell_type": "code",
   "execution_count": 729,
   "id": "be3edf0b",
   "metadata": {},
   "outputs": [
    {
     "name": "stdout",
     "output_type": "stream",
     "text": [
      "[0, 0, 1, 1, 1, 0]\n"
     ]
    }
   ],
   "source": [
    "print(best_hidden_state_path)"
   ]
  },
  {
   "cell_type": "code",
   "execution_count": 730,
   "id": "4f92b39e",
   "metadata": {},
   "outputs": [],
   "source": [
    "hidden_state_path = [hidden_states_dict[i] for i in best_hidden_state_path]"
   ]
  },
  {
   "cell_type": "code",
   "execution_count": 731,
   "id": "cc743ed2",
   "metadata": {},
   "outputs": [
    {
     "data": {
      "text/plain": [
       "['R01', 'R01', 'R21', 'R21', 'R21', 'R01']"
      ]
     },
     "execution_count": 731,
     "metadata": {},
     "output_type": "execute_result"
    }
   ],
   "source": [
    "hidden_state_path"
   ]
  },
  {
   "cell_type": "code",
   "execution_count": 754,
   "id": "9e1e8f98",
   "metadata": {},
   "outputs": [],
   "source": [
    "observation_states = ['on-time','late'] \n",
    "\n",
    "# index annotation hidden_states=[i,j]\n",
    "hidden_states = ['no-traffic','traffic']\n",
    "\n",
    "# PONDERING QUESTION: How would a user define/compute their own HMM instantiation inputs to decode the hidden states for their use case observations?\n",
    "use_case_one_data = np.load('./data/UserCase-One.npz')\n",
    "\n",
    "# Instantiate submodule class models.HiddenMarkovModel with\n",
    "# observation and hidden states and prior, transition, and emission probabilities.\n",
    "use_case_one_hmm = hmm.HiddenMarkovModel(observation_states,\n",
    "                                     hidden_states,\n",
    "                  use_case_one_data['prior_probabilities'], # prior probabilities of hidden states in the order specified in the hidden_states list\n",
    "                  use_case_one_data['transition_probabilities'], # transition_probabilities[:,hidden_states[i]]\n",
    "                  use_case_one_data['emission_probabilities']) "
   ]
  },
  {
   "cell_type": "code",
   "execution_count": 755,
   "id": "d04c5f9b",
   "metadata": {},
   "outputs": [],
   "source": [
    "use_case_one_viterbi = decoders.ViterbiAlgorithm(use_case_one_hmm)"
   ]
  },
  {
   "cell_type": "code",
   "execution_count": 756,
   "id": "5aaed9d9",
   "metadata": {},
   "outputs": [
    {
     "name": "stdout",
     "output_type": "stream",
     "text": [
      "['on-time' 'on-time' 'late' 'late' 'late' 'on-time']\n"
     ]
    }
   ],
   "source": [
    "decode_observation_states = use_case_one_data['observation_states']\n",
    "print(decode_observation_states)"
   ]
  },
  {
   "cell_type": "code",
   "execution_count": 757,
   "id": "2f44933a",
   "metadata": {},
   "outputs": [],
   "source": [
    "test_seq = use_case_one_viterbi.best_hidden_state_sequence(decode_observation_states)"
   ]
  },
  {
   "cell_type": "code",
   "execution_count": 759,
   "id": "664b1c24",
   "metadata": {},
   "outputs": [
    {
     "data": {
      "text/plain": [
       "array(['no-traffic', 'no-traffic', 'traffic', 'traffic', 'traffic',\n",
       "       'no-traffic'], dtype='<U10')"
      ]
     },
     "execution_count": 759,
     "metadata": {},
     "output_type": "execute_result"
    }
   ],
   "source": [
    "test_seq"
   ]
  },
  {
   "cell_type": "code",
   "execution_count": null,
   "id": "1469def0",
   "metadata": {},
   "outputs": [],
   "source": []
  }
 ],
 "metadata": {
  "kernelspec": {
   "display_name": "Python 3 (ipykernel)",
   "language": "python",
   "name": "python3"
  },
  "language_info": {
   "codemirror_mode": {
    "name": "ipython",
    "version": 3
   },
   "file_extension": ".py",
   "mimetype": "text/x-python",
   "name": "python",
   "nbconvert_exporter": "python",
   "pygments_lexer": "ipython3",
   "version": "3.9.12"
  }
 },
 "nbformat": 4,
 "nbformat_minor": 5
}
